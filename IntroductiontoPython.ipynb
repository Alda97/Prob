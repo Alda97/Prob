{
 "cells": [
  {
   "cell_type": "markdown",
   "id": "cdb1ede3-f8bb-4e84-8e89-5fb64e32f7f6",
   "metadata": {},
   "source": [
    "# Introduction to  Python"
   ]
  },
  {
   "cell_type": "markdown",
   "id": "800af1f7-3978-4932-b8cf-2a923642dafd",
   "metadata": {
    "tags": []
   },
   "source": [
    "![Logo Paython](data:image/jpeg;base64,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)"
   ]
  },
  {
   "cell_type": "markdown",
   "id": "e856d403-997b-408e-bb22-470832d92ea9",
   "metadata": {},
   "source": [
    "Python is a high-level, interpretive, general-purpose dynamic programming language with a strong emphasis on code readability.Python’s syntax allows programmers to code in fewer steps. Because of its numerous programming paradigms, Python is commonly employed in larger enterprises. In most cases, imperative and object-oriented functional programming is used. It comes with a vast and comprehensive standard library, as well as automatic memory management and various features."
   ]
  },
  {
   "cell_type": "markdown",
   "id": "a0bbbf07-1982-4b40-9605-339206140993",
   "metadata": {},
   "source": [
    "Van Rossum worked as an implementer of the ABC programming language at CWI (Centrum Voor Wiskunde en Informatica) in the early 1980s. Later, when working on a new distributed operating system called AMOEBA at CWI in the late 1980s, Van Rossum began exploring a scripting language with a syntax similar to ABC but with access to the Amoeba system calls. As a result, Van Rossum set out to create a new simple scripting language that could overcome ABC’s limitations.\n",
    "\n",
    "Van Rossum began working on the new script in the late 1980s, and the first version of the programming language was released in 1991. Modula-3 is the module system used in this initial release. Python was the name given to this programming language later on.\n",
    "\n",
    "\n",
    "\n",
    "Most of the programming constructs that are available in Python are also available in T-SQL. Our intention is not to learn Python in full detail, but to learn Python constructs that enable us to consume the unique Python libraries and data processing / computation mechanisms that are not available in T-SQL."
   ]
  },
  {
   "cell_type": "markdown",
   "id": "b46a797d-7d2c-4b52-ba13-d0d105a3afae",
   "metadata": {},
   "source": [
    "# Start programming Python"
   ]
  },
  {
   "cell_type": "markdown",
   "id": "3942345f-172e-4b92-ad33-53a3bce84562",
   "metadata": {},
   "source": [
    "To start entering the world of Python we need to know some basic concepts that I will show you now."
   ]
  },
  {
   "cell_type": "markdown",
   "id": "df4827c1-70c7-427d-b23e-5e37b8f58aca",
   "metadata": {},
   "source": [
    "# Python Comment"
   ]
  },
  {
   "cell_type": "markdown",
   "id": "d659d727-2432-4e41-abc5-80b5fba5ba71",
   "metadata": {},
   "source": [
    "Comments are very important while writing a program. They describe what is going on inside a program, so that a person looking at the source code does not have a hard time figuring it out.\n",
    "\n",
    "You might forget the key details of the program you just wrote in a month's time. So taking the time to explain these concepts in the form of comments is always fruitful.\n",
    "\n",
    "In Python, we use the hash (#) symbol to start writing a comment.\n",
    "\n",
    "It extends up to the newline character. Comments are for programmers to better understand a program. Python Interpreter ignores comments."
   ]
  },
  {
   "cell_type": "code",
   "execution_count": 7,
   "id": "c20aad7a-c13e-455e-90d3-a4250b9c4cbc",
   "metadata": {},
   "outputs": [
    {
     "name": "stdout",
     "output_type": "stream",
     "text": [
      "Hello\n"
     ]
    }
   ],
   "source": [
    "#This is a comment\n",
    "#print out Hello\n",
    "print('Hello')"
   ]
  },
  {
   "cell_type": "markdown",
   "id": "2d404dea-8673-4bc7-8b28-aaf390708f50",
   "metadata": {},
   "source": [
    "# Multi-line comments"
   ]
  },
  {
   "cell_type": "markdown",
   "id": "82ee30ea-f6be-4347-be20-b915b1f46382",
   "metadata": {},
   "source": [
    "We can have comments that extend up to multiple lines. One way is to use the hash(#) symbol at the beginning of each line. For example:"
   ]
  },
  {
   "cell_type": "code",
   "execution_count": 8,
   "id": "aee34ad6-6dad-4bfe-9c6e-2dc9e57107aa",
   "metadata": {},
   "outputs": [],
   "source": [
    "#This is a long comment\n",
    "#and it extends\n",
    "#to multiple lines"
   ]
  },
  {
   "cell_type": "markdown",
   "id": "b00dd566-a822-416c-bda9-5c9b4c41bf29",
   "metadata": {},
   "source": [
    "Another way of doing this is to use triple quotes, either ''' or \"\"\".\n",
    "\n",
    "These triple quotes are generally used for multi-line strings. But they can be used as a multi-line comment as well. Unless they are not docstrings, they do not generate any extra code."
   ]
  },
  {
   "cell_type": "code",
   "execution_count": 9,
   "id": "6bf85b7b-f419-4fad-8b98-41257c7d5827",
   "metadata": {},
   "outputs": [
    {
     "data": {
      "text/plain": [
       "'This is also a\\nperfect example of\\nmulti-line comments'"
      ]
     },
     "execution_count": 9,
     "metadata": {},
     "output_type": "execute_result"
    }
   ],
   "source": [
    "\"\"\"This is also a\n",
    "perfect example of\n",
    "multi-line comments\"\"\""
   ]
  },
  {
   "cell_type": "markdown",
   "id": "3c6ff2c9-13d7-4cb4-ba35-873358ace56d",
   "metadata": {},
   "source": [
    "# Docstrings in Python"
   ]
  },
  {
   "cell_type": "markdown",
   "id": "b75f0576-3e98-481f-aaec-586dcb4eba95",
   "metadata": {},
   "source": [
    "A docstring is short for documentation string.\n",
    "\n",
    "Python docstrings (documentation strings) are the string literals that appear right after the definition of a function, method, class, or module.\n",
    "\n",
    "Triple quotes are used while writing docstrings. For example:"
   ]
  },
  {
   "cell_type": "code",
   "execution_count": 11,
   "id": "bdcb5343-0c21-4556-a2cd-23d3fda94ee0",
   "metadata": {},
   "outputs": [],
   "source": [
    "def double(num):\n",
    "    \"\"\"Function to double the value\"\"\"\n",
    "    return 2*num"
   ]
  },
  {
   "cell_type": "markdown",
   "id": "ae2818b1-bb80-42d8-b6be-01e82e9a3848",
   "metadata": {},
   "source": [
    "Docstrings appear right after the definition of a function, class, or a module. This separates docstrings from multiline comments using triple quotes.\n",
    "\n",
    "The docstrings are associated with the object as their __doc__ attribute.\n",
    "\n",
    "So, we can access the docstrings of the above function with the following lines of code:"
   ]
  },
  {
   "cell_type": "code",
   "execution_count": 12,
   "id": "e092f8f9-1289-45a6-acb7-c85bc811033b",
   "metadata": {},
   "outputs": [
    {
     "name": "stdout",
     "output_type": "stream",
     "text": [
      "Function to double the value\n"
     ]
    }
   ],
   "source": [
    "def double(num):\n",
    "    \"\"\"Function to double the value\"\"\"\n",
    "    return 2*num\n",
    "print(double.__doc__)"
   ]
  },
  {
   "cell_type": "markdown",
   "id": "11d2412d-0bdc-4df3-a263-b432bf114a82",
   "metadata": {},
   "source": [
    "# Python Statement"
   ]
  },
  {
   "cell_type": "markdown",
   "id": "ace30ac7-a7b2-4397-b2a1-57d352d30edb",
   "metadata": {},
   "source": [
    "nstructions that a Python interpreter can execute are called statements. For example, a = 1 is an assignment statement. if statement, for statement, while statement, etc. are other kinds of statements which will be discussed later.\n",
    "\n",
    "# Multi-line statement:\n",
    "In Python, the end of a statement is marked by a newline character. But we can make a statement extend over multiple lines with the line continuation character (\\). For example:"
   ]
  },
  {
   "cell_type": "code",
   "execution_count": 13,
   "id": "11cb6f97-ff95-462b-b945-df3220482b3b",
   "metadata": {},
   "outputs": [],
   "source": [
    "a = 1 + 2 + 3 + \\\n",
    "    4 + 5 + 6 + \\\n",
    "    7 + 8 + 9"
   ]
  },
  {
   "cell_type": "markdown",
   "id": "90687203-cd9e-45d4-8add-31e0e24fcc71",
   "metadata": {},
   "source": [
    "This is an explicit line continuation. In Python, line continuation is implied inside parentheses ( ), brackets [ ], and braces { }. For instance, we can implement the above multi-line statement as:"
   ]
  },
  {
   "cell_type": "code",
   "execution_count": 14,
   "id": "f6fc7ae6-d20d-4c6e-b534-c3c5bbdc931c",
   "metadata": {},
   "outputs": [],
   "source": [
    "a = (1 + 2 + 3 +\n",
    "    4 + 5 + 6 +\n",
    "    7 + 8 + 9)"
   ]
  },
  {
   "cell_type": "markdown",
   "id": "2c50ec39-3a74-4ab2-a572-3f8fa01f80fd",
   "metadata": {},
   "source": [
    "Here, the surrounding parentheses ( ) do the line continuation implicitly. Same is the case with [ ] and { }. For example:"
   ]
  },
  {
   "cell_type": "code",
   "execution_count": 15,
   "id": "a49015e5-2e9f-4967-9adf-83c28314706d",
   "metadata": {},
   "outputs": [],
   "source": [
    "colors = ['red',\n",
    "          'blue',\n",
    "          'green']"
   ]
  },
  {
   "cell_type": "markdown",
   "id": "55e87c5c-c52f-40c8-8e68-fb8b3d6ddfa1",
   "metadata": {},
   "source": [
    "We can also put multiple statements in a single line using semicolons, as follows:"
   ]
  },
  {
   "cell_type": "code",
   "execution_count": 16,
   "id": "5d8d5fe2-cf1a-4cc7-8df7-42f99f493213",
   "metadata": {},
   "outputs": [],
   "source": [
    "a = 1; b = 2; c = 3"
   ]
  },
  {
   "cell_type": "markdown",
   "id": "84a07e4e-1c18-4d32-8d9b-9de189d138d5",
   "metadata": {},
   "source": [
    "# Python Variables\n",
    "A variable is a named location used to store data in the memory. It is helpful to think of variables as a container that holds data that can be changed later in the program. For example,\n",
    "\n",
    "number = 10\n",
    "\n",
    "Here, we have created a variable named number. We have assigned the value 10 to the variable.\n",
    "\n",
    "You can think of variables as a bag to store books in it and that book can be replaced at any time."
   ]
  },
  {
   "cell_type": "code",
   "execution_count": 17,
   "id": "ecca5ec6-d2e3-4643-b433-6ede01f6b63f",
   "metadata": {},
   "outputs": [],
   "source": [
    "number = 10\n",
    "number = 1.1"
   ]
  },
  {
   "cell_type": "markdown",
   "id": "7a5efc2d-15de-4582-8c4d-6e976483b7ae",
   "metadata": {},
   "source": [
    "# Assigning values to Variables in Python\n",
    "As you can see from the above example, you can use the assignment operator = to assign a value to a variable.\n",
    "\n",
    "Example: Declaring and assigning value to a variable"
   ]
  },
  {
   "cell_type": "code",
   "execution_count": 18,
   "id": "7fd20a04-32a7-42db-a918-f9252a669325",
   "metadata": {},
   "outputs": [
    {
     "name": "stdout",
     "output_type": "stream",
     "text": [
      "utaltamira.edu.mx\n"
     ]
    }
   ],
   "source": [
    "website = \"utaltamira.edu.mx\"\n",
    "print(website)"
   ]
  },
  {
   "cell_type": "markdown",
   "id": "df1bfa79-8e03-40e8-9c05-64b62b6ce935",
   "metadata": {},
   "source": [
    "In the above program, we assigned a value utaltamira.edu.mx  to the variable website. Then, we printed out the value assigned to website i.e. utaltamira.edu.mx"
   ]
  },
  {
   "cell_type": "markdown",
   "id": "0c2c8793-5734-466d-9a6d-b18e7a6b6c9d",
   "metadata": {},
   "source": [
    "# Constants\n",
    "A constant is a type of variable whose value cannot be changed. It is helpful to think of constants as containers that hold information which cannot be changed later.\n",
    "\n",
    "You can think of constants as a bag to store some books which cannot be replaced once placed inside the bag.\n",
    "\n",
    "# Assigning value to constant in Python\n",
    "In Python, constants are usually declared and assigned in a module. Here, the module is a new file containing variables, functions, etc which is imported to the main file. Inside the module, constants are written in all capital letters and underscores separating the words.\n"
   ]
  },
  {
   "cell_type": "markdown",
   "id": "68d886b3-84e8-431c-a003-e20989ca60b1",
   "metadata": {},
   "source": [
    "# Literals\n",
    "Literal is a raw data given in a variable or constant. In Python, there are various types of literals they are as follows:\n",
    "\n",
    "# Numeric Literals\n",
    "Numeric Literals are immutable (unchangeable). Numeric literals can belong to 3 different numerical types: Integer, Float, and Complex.\n",
    "\n",
    "Example: How to use Numeric literals in Python?"
   ]
  },
  {
   "cell_type": "code",
   "execution_count": 29,
   "id": "2262f040-9c85-4067-afb7-a8ba9b6d70d2",
   "metadata": {},
   "outputs": [
    {
     "name": "stdout",
     "output_type": "stream",
     "text": [
      "10 100 200 300\n",
      "10.5 150.0\n",
      "3.14j 3.14 0.0\n"
     ]
    }
   ],
   "source": [
    "a = 0b1010 #Binary Literals\n",
    "b = 100 #Decimal Literal \n",
    "c = 0o310 #Octal Literal\n",
    "d = 0x12c #Hexadecimal Literal\n",
    "\n",
    "#Float Literal\n",
    "float_1 = 10.5 \n",
    "float_2 = 1.5e2\n",
    "\n",
    "#Complex Literal \n",
    "x = 3.14j\n",
    "\n",
    "print(a, b, c, d)\n",
    "print(float_1, float_2)\n",
    "print(x, x.imag, x.real)"
   ]
  },
  {
   "cell_type": "markdown",
   "id": "8a776659-32a2-4cc6-914a-3eddd47b4d55",
   "metadata": {},
   "source": [
    "In the above program,\n",
    "\n",
    "We assigned integer literals into different variables. Here, a is binary literal, b is a decimal literal, c is an octal literal and d is a hexadecimal literal.\n",
    "When we print the variables, all the literals are converted into decimal values.\n",
    "10.5 and 1.5e2 are floating-point literals. 1.5e2 is expressed with exponential and is equivalent to 1.5 * 102.\n",
    "We assigned a complex literal i.e 3.14j in variable x. Then we use imaginary literal (x.imag) and real literal (x.real) to create imaginary and real parts of complex numbers."
   ]
  },
  {
   "cell_type": "markdown",
   "id": "c176b644-2fc4-4943-aa8e-c76fc9cd8aae",
   "metadata": {},
   "source": [
    "# Data types in Python\n",
    "Every value in Python has a datatype. Since everything is an object in Python programming, data types are actually classes and variables are instance (object) of these classes.\n",
    "\n",
    "There are various data types in Python. Some of the important types are listed below.\n",
    "\n",
    "# Python Numbers\n",
    "Integers, floating point numbers and complex numbers fall under Python numbers category. They are defined as int, float and complex classes in Python.\n",
    "\n",
    "We can use the type() function to know which class a variable or a value belongs to. Similarly, the isinstance() function is used to check if an object belongs to a particular class."
   ]
  },
  {
   "cell_type": "code",
   "execution_count": 30,
   "id": "f1fae10d-7a89-42f8-a77b-70c7bf50d5a3",
   "metadata": {},
   "outputs": [
    {
     "name": "stdout",
     "output_type": "stream",
     "text": [
      "5 is of type <class 'int'>\n",
      "2.0 is of type <class 'float'>\n",
      "(1+2j) is complex number? True\n"
     ]
    }
   ],
   "source": [
    "a = 5\n",
    "print(a, \"is of type\", type(a))\n",
    "\n",
    "a = 2.0\n",
    "print(a, \"is of type\", type(a))\n",
    "\n",
    "a = 1+2j\n",
    "print(a, \"is complex number?\", isinstance(1+2j,complex))"
   ]
  },
  {
   "cell_type": "markdown",
   "id": "3a24524f-9a0d-48db-9d56-5614b4deaca3",
   "metadata": {},
   "source": [
    "# Python List\n",
    "List is an ordered sequence of items. It is one of the most used datatype in Python and is very flexible. All the items in a list do not need to be of the same type.\n",
    "\n",
    "Declaring a list is pretty straight forward. Items separated by commas are enclosed within brackets [ ].\n",
    "\n",
    "a = [1, 2.2, 'python']\n",
    "\n",
    "We can use the slicing operator [ ] to extract an item or a range of items from a list. The index starts from 0 in Python."
   ]
  },
  {
   "cell_type": "code",
   "execution_count": 31,
   "id": "dc73d668-7728-4699-ab4a-a31ec791a064",
   "metadata": {},
   "outputs": [
    {
     "name": "stdout",
     "output_type": "stream",
     "text": [
      "a[2] =  15\n",
      "a[0:3] =  [5, 10, 15]\n",
      "a[5:] =  [30, 35, 40]\n"
     ]
    }
   ],
   "source": [
    "a = [5,10,15,20,25,30,35,40]\n",
    "\n",
    "# a[2] = 15\n",
    "print(\"a[2] = \", a[2])\n",
    "\n",
    "# a[0:3] = [5, 10, 15]\n",
    "print(\"a[0:3] = \", a[0:3])\n",
    "\n",
    "# a[5:] = [30, 35, 40]\n",
    "print(\"a[5:] = \", a[5:])"
   ]
  },
  {
   "cell_type": "markdown",
   "id": "af013118-19a2-428f-9d46-9c7017ac59d5",
   "metadata": {},
   "source": [
    "# Type Conversion\n",
    "The process of converting the value of one data type (integer, string, float, etc.) to another data type is called type conversion. Python has two types of type conversion.\n",
    "\n",
    "Implicit Type Conversion\n",
    "Explicit Type Conversion\n",
    "\n",
    "# Implicit Type Conversion\n",
    "In Implicit type conversion, Python automatically converts one data type to another data type. This process doesn't need any user involvement.\n",
    "\n",
    "Let's see an example where Python promotes the conversion of the lower data type (integer) to the higher data type (float) to avoid data loss.\n",
    "\n",
    "Example: Converting integer to float"
   ]
  },
  {
   "cell_type": "code",
   "execution_count": 32,
   "id": "a39c66d9-f4d1-4fa6-9de0-1ac7690c8fd4",
   "metadata": {},
   "outputs": [
    {
     "name": "stdout",
     "output_type": "stream",
     "text": [
      "datatype of num_int: <class 'int'>\n",
      "datatype of num_flo: <class 'float'>\n",
      "Value of num_new: 517.12\n",
      "datatype of num_new: <class 'float'>\n"
     ]
    }
   ],
   "source": [
    "num_int = 512\n",
    "num_flo = 5.12\n",
    "\n",
    "num_new = num_int + num_flo\n",
    "\n",
    "print(\"datatype of num_int:\",type(num_int))\n",
    "print(\"datatype of num_flo:\",type(num_flo))\n",
    "\n",
    "print(\"Value of num_new:\",num_new)\n",
    "print(\"datatype of num_new:\",type(num_new))"
   ]
  },
  {
   "cell_type": "markdown",
   "id": "0f8c0189-907f-4cf7-81af-513b82ae2b98",
   "metadata": {},
   "source": [
    "# Explicit Type Conversion\n",
    "In Explicit Type Conversion, users convert the data type of an object to required data type. We use the predefined functions like int(), float(), str(), etc to perform explicit type conversion.\n",
    "\n",
    "This type of conversion is also called typecasting because the user casts (changes) the data type of the objects.\n",
    "\n",
    "Syntax :\n",
    "\n",
    "<required_datatype>(expression)\n",
    "Typecasting can be done by assigning the required data type function to the expression."
   ]
  },
  {
   "cell_type": "code",
   "execution_count": 33,
   "id": "d3019247-fcd0-4da3-9701-e4c6e41b2c7f",
   "metadata": {},
   "outputs": [
    {
     "name": "stdout",
     "output_type": "stream",
     "text": [
      "Data type of num_int: <class 'int'>\n",
      "Data type of num_str before Type Casting: <class 'str'>\n",
      "Data type of num_str after Type Casting: <class 'int'>\n",
      "Sum of num_int and num_str: 1387\n",
      "Data type of the sum: <class 'int'>\n"
     ]
    }
   ],
   "source": [
    "num_int = 512\n",
    "num_str = \"875\"\n",
    "\n",
    "print(\"Data type of num_int:\",type(num_int))\n",
    "print(\"Data type of num_str before Type Casting:\",type(num_str))\n",
    "\n",
    "num_str = int(num_str)\n",
    "print(\"Data type of num_str after Type Casting:\",type(num_str))\n",
    "\n",
    "num_sum = num_int + num_str\n",
    "\n",
    "print(\"Sum of num_int and num_str:\",num_sum)\n",
    "print(\"Data type of the sum:\",type(num_sum))"
   ]
  },
  {
   "cell_type": "markdown",
   "id": "1cfe235c-ac91-46b1-bbda-fc25847e5a6e",
   "metadata": {},
   "source": [
    "# The print statement\n",
    "\n",
    "The print() function prints the given object to the standard output device (screen) or to the text stream file. Remember the time when you wrote your first program? Yes! I am talking about the “Hello World” program, which is probably the first program which anyone learns in their life. That one line of the program has a print statement that we use daily in our programming without even knowing its intricacies. The purpose of the print() statement is to print the given object to the standard output device or to the text stream file.\n",
    "\n",
    "Syntax:\n",
    "\n",
    "print(*objects, sep=' ', end='\\n', file=sys.stdout, flush=False)\n",
    "\n",
    "As we have seen the basic syntax of a print function,\n",
    "\n",
    "# Parameters of Print Statement in Python\n",
    "\n",
    "let us discuss its parameters in details:\n",
    "\n",
    "objects: This signifies the object to be printed, * indicates that there can be more than one object.\n",
    "sep: This signifies the separation which would be between the different objects. By default, this value is ‘‘.\n",
    "end: The value for this parameter is printed at last.\n",
    "file: It should be an object with a write(str) method. If this value is not mentioned, it prints objects on the standard output device, i.e. screen.\n",
    "flush: The stream gets forcibly flushed if this value is True. By default, this value is False.\n",
    "\n",
    "\n",
    "# Calling Print Function\n",
    "To call the print function, we just need to write print followed by the parenthesis (). It tells Python that we are actually calling the function and not referring to it by its name. Just calling print() would produce an invisible newline character. But using Python String literal ‘\\n’ is a better option for printing a new line.\n",
    "\n",
    "# Newlines\n",
    "Code:\n"
   ]
  },
  {
   "cell_type": "code",
   "execution_count": 34,
   "id": "6aa97000-2e46-4a1f-9e32-ec821a5e1c56",
   "metadata": {},
   "outputs": [
    {
     "name": "stdout",
     "output_type": "stream",
     "text": [
      "Hello everyone this is my test\n",
      "\n",
      "\n",
      "Welcome\n"
     ]
    }
   ],
   "source": [
    "print(\"Hello everyone this is my test\")\n",
    "print(\"\\n\")\n",
    "print(\"Welcome\")"
   ]
  },
  {
   "cell_type": "markdown",
   "id": "5626c8b7-3bbf-4497-a0ab-17184957788c",
   "metadata": {},
   "source": [
    "For Multiple Newlines:\n",
    "Code:"
   ]
  },
  {
   "cell_type": "code",
   "execution_count": 36,
   "id": "929702fd-30c0-4d1e-852a-307356267392",
   "metadata": {},
   "outputs": [
    {
     "name": "stdout",
     "output_type": "stream",
     "text": [
      "Hi there\n",
      "\n",
      "\n",
      "\n",
      "\n",
      "\n",
      "\n",
      "sayonara\n"
     ]
    }
   ],
   "source": [
    "print(\"Hi there\")\n",
    "print(5*\"\\n\")\n",
    "print(\"sayonara\")"
   ]
  },
  {
   "cell_type": "markdown",
   "id": "4c3cbf1b-07b5-4dd2-ba47-6f46b5d85d7a",
   "metadata": {},
   "source": [
    "# Sending Multiple Objects with Sep and End Parameters\n",
    "Code:"
   ]
  },
  {
   "cell_type": "code",
   "execution_count": 38,
   "id": "816cf0f4-9cc8-432b-b7e4-20e312804fbf",
   "metadata": {},
   "outputs": [
    {
     "name": "stdout",
     "output_type": "stream",
     "text": [
      "Amo los tacos!!!"
     ]
    }
   ],
   "source": [
    "print('Amo','los','tacos',sep=' ',end='!!!')"
   ]
  },
  {
   "cell_type": "markdown",
   "id": "91499fa6-3d4e-455e-83ec-3a3a9cea2c91",
   "metadata": {},
   "source": [
    "# Using String Concatenation\n",
    "Code:"
   ]
  },
  {
   "cell_type": "code",
   "execution_count": 39,
   "id": "9cc212d5-9326-49ae-a38a-8a7eace5503c",
   "metadata": {},
   "outputs": [
    {
     "name": "stdout",
     "output_type": "stream",
     "text": [
      "Hi How are u? nice to meet u!!!\n"
     ]
    }
   ],
   "source": [
    "string1 = \"Hi \"\n",
    "string2 = \"How are u? \"\n",
    "string3 = \"nice to meet u\"\n",
    "string4 = \"!!!\"\n",
    "print(string1+string2+string3+string4)"
   ]
  },
  {
   "cell_type": "markdown",
   "id": "55154042-f4de-479a-a11d-0b2825c448f0",
   "metadata": {},
   "source": [
    "# Using f-strings for String Concatenation\n",
    "Code:"
   ]
  },
  {
   "cell_type": "code",
   "execution_count": 42,
   "id": "ac620af4-82a7-4f9e-87c0-3b44c9bde0ec",
   "metadata": {},
   "outputs": [
    {
     "name": "stdout",
     "output_type": "stream",
     "text": [
      "Current time is 2021-09-16 00:05:35.519231\n"
     ]
    }
   ],
   "source": [
    "import datetime\n",
    "now = datetime.datetime.now()\n",
    "print(f'Current time is {now}')"
   ]
  },
  {
   "cell_type": "markdown",
   "id": "1f0af72f-c17e-4353-808a-787d60ceb884",
   "metadata": {},
   "source": [
    "# Using Positional Arguments\n",
    "Code:"
   ]
  },
  {
   "cell_type": "code",
   "execution_count": 43,
   "id": "0290d880-cb9b-44b9-9a6f-cff6f8b2cbc7",
   "metadata": {},
   "outputs": [
    {
     "name": "stdout",
     "output_type": "stream",
     "text": [
      "Current time is 2021-09-16 00:06:24.568140\n"
     ]
    }
   ],
   "source": [
    "import datetime\n",
    "now = datetime.datetime.now()\n",
    "print('Current time is',now)"
   ]
  },
  {
   "cell_type": "markdown",
   "id": "6ed7e512-1866-4254-846d-3cd26a86d5fb",
   "metadata": {},
   "source": [
    "# Python if Statement\n",
    "\n",
    "is used for decision-making operations. It contains a body of code which runs only when the condition given in the if statement is true. If the condition is false, then the optional else statement runs which contains some code for the else condition.\n",
    "\n",
    "When you want to justify one condition while the other condition is not true, then you use Python if else statement.\n",
    "\n",
    "Python if Statement Syntax:\n",
    "\n",
    "if \n",
    "expression\n",
    "\n",
    " Statement\n",
    " \n",
    "else \n",
    "\n",
    " Statement\n",
    "\n",
    "# Python if…else Flowchart"
   ]
  },
  {
   "cell_type": "markdown",
   "id": "606ee8be-4cf9-4f53-8d7f-7d9015db5540",
   "metadata": {},
   "source": [
    "![if_then_flowchart](https://cdn.guru99.com/images/2013/04/if_then_flowchart.png)"
   ]
  },
  {
   "cell_type": "markdown",
   "id": "278c06aa-b4b3-48f9-a217-6ebed61ad528",
   "metadata": {},
   "source": [
    "Let’s see an example of Python if else Statement:"
   ]
  },
  {
   "cell_type": "code",
   "execution_count": 8,
   "id": "d5e5f73c-cd93-4e71-b5c6-f9a79656ac99",
   "metadata": {},
   "outputs": [
    {
     "name": "stdout",
     "output_type": "stream",
     "text": [
      "x is less than y\n"
     ]
    }
   ],
   "source": [
    "def main():\n",
    "\tx,y =2,8\n",
    "\t\n",
    "\tif(x < y):\n",
    "\t\tst= \"x is less than y\"\n",
    "\tprint(st)\n",
    "\t\n",
    "if __name__ == \"__main__\":\n",
    "\tmain()"
   ]
  },
  {
   "cell_type": "markdown",
   "id": "4b0bef49-24cf-4fab-bfaa-d35bc998dbb8",
   "metadata": {},
   "source": [
    "# The else condition\n",
    "is usually used when you have to judge one statement on the basis of other. If one condition goes wrong, then there should be another condition that should justify the statement or logic.\n",
    "\n",
    "Example:"
   ]
  },
  {
   "cell_type": "code",
   "execution_count": 9,
   "id": "2a675008-13f1-49da-8d59-39ad5f3b8c78",
   "metadata": {},
   "outputs": [
    {
     "name": "stdout",
     "output_type": "stream",
     "text": [
      "x is greater than y\n"
     ]
    }
   ],
   "source": [
    "def main():\n",
    "\tx,y =8,4\n",
    "\t\n",
    "\tif(x < y):\n",
    "\t\tst= \"x is less than y\"\n",
    "\telse:\n",
    "\t\tst= \"x is greater than y\"\n",
    "\tprint (st)\n",
    "\t\n",
    "if __name__ == \"__main__\":\n",
    "\tmain()"
   ]
  },
  {
   "cell_type": "markdown",
   "id": "010c24da-6222-4088-9dc7-9890418e8e91",
   "metadata": {},
   "source": [
    "if condition – It is used when you need to print out the result when one of the conditions is true or false.\n",
    "\n",
    "else condition- it is used when you want to print out the statement when your one condition fails to meet the requirement"
   ]
  },
  {
   "cell_type": "markdown",
   "id": "24017c90-3e5d-409c-b140-906fce25bd48",
   "metadata": {},
   "source": [
    "# Introduction Loops in Python"
   ]
  },
  {
   "cell_type": "markdown",
   "id": "78e3de5b-1292-4aa3-9991-0146924629c7",
   "metadata": {},
   "source": [
    "# While Loops\n",
    "The common strategy behind while loops are they execute a set of statements until the given condition is satisfied. The next statement call happens at the instance when the specified condition is satisfied. The use of indented code segments determines the segment or the body of the loop. Indentation starts the loop, and the line from which it starts to be unindented represents the end of the mentioned loop. All non-zero values are interpreted as true here.\n",
    "\n",
    "# Flowchart\n"
   ]
  },
  {
   "cell_type": "markdown",
   "id": "9eb4f592-cd93-49af-a164-f67f3cbeacbf",
   "metadata": {},
   "source": [
    "![flow](https://www.educba.com/academy/wp-content/uploads/2019/09/2019-09-20.jpg)"
   ]
  },
  {
   "cell_type": "markdown",
   "id": "e3494e61-c4ef-42ae-97a1-3864e6604a3b",
   "metadata": {},
   "source": [
    "Whereas While loops, unlike For loops, are repeated as many times as a loop condition is met. For instance"
   ]
  },
  {
   "cell_type": "code",
   "execution_count": 19,
   "id": "61324765-2ab2-4185-90ce-939c233d4bc6",
   "metadata": {},
   "outputs": [
    {
     "name": "stdout",
     "output_type": "stream",
     "text": [
      "0\n",
      "1\n",
      "2\n",
      "3\n",
      "4\n"
     ]
    }
   ],
   "source": [
    "# Muestra 0,1,2,3,4\n",
    "\n",
    "count = 0\n",
    "while count < 5:\n",
    "    print (count)\n",
    "    count += 1  # Esto es lo mismo que escribir:  count = count + 1"
   ]
  },
  {
   "cell_type": "markdown",
   "id": "536d0e26-ce2d-450e-a119-105fdb94ace5",
   "metadata": {},
   "source": [
    "# For Loops\n",
    "For traversing a sequential statement set, these loops are implied. The persistence of the loop is passed on pending the last item in the series is executed. While loop here to the content of the loop is separated from the rest of the code by introducing the indentation. As like while loop here to indentation plays an important role in determining the body of the loop involved. Indentation starts the loop, and the line from which it starts to be unindented represents the end of the mentioned loop."
   ]
  },
  {
   "cell_type": "markdown",
   "id": "2a1afa4f-a4c2-4ab5-9d15-7c46c1c77fea",
   "metadata": {},
   "source": [
    "![for](https://www.educba.com/academy/wp-content/uploads/2019/09/2019-09-20-1.jpg)"
   ]
  },
  {
   "cell_type": "markdown",
   "id": "084731f7-7ea4-4e82-b960-2af492f29c83",
   "metadata": {},
   "source": [
    "Example:"
   ]
  },
  {
   "cell_type": "code",
   "execution_count": 25,
   "id": "a3e46f05-c506-43e0-844e-7cb4fdfdde87",
   "metadata": {},
   "outputs": [
    {
     "name": "stdout",
     "output_type": "stream",
     "text": [
      "[2, 3, 5, 7]\n",
      "[2, 3, 5, 7]\n",
      "[2, 3, 5, 7]\n",
      "[2, 3, 5, 7]\n"
     ]
    }
   ],
   "source": [
    "Pizzas = [2,3,5,7]\n",
    "for prime in Pizzas:\n",
    "    print (Pizzas)"
   ]
  },
  {
   "cell_type": "markdown",
   "id": "2eed3695-75b7-4fa2-b630-a22dee879f09",
   "metadata": {},
   "source": [
    "For loops you can iterate over a sequence of numbers using the \"range\" and \"xrange\" functions. The difference between range and range is that the range function returns a new list with numbers that the range specifies, where xrange returns an iterator, which is very efficient. (Python 3 uses the range function, which acts like xrange). Note that the xrange function is zero-based."
   ]
  },
  {
   "cell_type": "markdown",
   "id": "338dde10-0fce-475f-beed-1b3c15e5ed36",
   "metadata": {},
   "source": [
    "# break & continue loops\n",
    "break is used to break out of a loop or while loop, where continue is used to skip the current block, and return \"for\" or \"while\" statements. Here are some examples:"
   ]
  },
  {
   "cell_type": "code",
   "execution_count": 38,
   "id": "83e6f703-4a5b-4edf-b3ed-fad699409af9",
   "metadata": {},
   "outputs": [
    {
     "name": "stdout",
     "output_type": "stream",
     "text": [
      "0\n",
      "1\n",
      "2\n",
      "3\n",
      "4\n"
     ]
    }
   ],
   "source": [
    "# Show us 0,1,2,3,4\n",
    "\n",
    "count = 0\n",
    "while True:\n",
    "    print (count)\n",
    "    count += 1\n",
    "    if count >= 5:\n",
    "        break"
   ]
  },
  {
   "cell_type": "markdown",
   "id": "606a713f-233c-44aa-a813-52e222da0306",
   "metadata": {},
   "source": [
    "# Nested Loops\n",
    "A nested loop is a loop inside a loop.\n",
    "\n",
    "The \"inner loop\" will be executed one time for each iteration of the \"outer loop\":\n",
    "\n",
    "Example\n",
    "Print each adjective for every fruit:"
   ]
  },
  {
   "cell_type": "code",
   "execution_count": 39,
   "id": "bfdc71cb-8335-42b5-a4ab-591abdc0d631",
   "metadata": {},
   "outputs": [
    {
     "name": "stdout",
     "output_type": "stream",
     "text": [
      "red apple\n",
      "red banana\n",
      "red cherry\n",
      "big apple\n",
      "big banana\n",
      "big cherry\n",
      "tasty apple\n",
      "tasty banana\n",
      "tasty cherry\n"
     ]
    }
   ],
   "source": [
    "adj = [\"red\", \"big\", \"tasty\"]\n",
    "fruits = [\"apple\", \"banana\", \"cherry\"]\n",
    "\n",
    "for x in adj:\n",
    "  for y in fruits:\n",
    "    print(x, y)"
   ]
  },
  {
   "cell_type": "code",
   "execution_count": null,
   "id": "bb13da9b-139d-4137-aa17-5092f84b3d00",
   "metadata": {},
   "outputs": [],
   "source": []
  }
 ],
 "metadata": {
  "kernelspec": {
   "display_name": "Python 3",
   "language": "python",
   "name": "python3"
  },
  "language_info": {
   "codemirror_mode": {
    "name": "ipython",
    "version": 3
   },
   "file_extension": ".py",
   "mimetype": "text/x-python",
   "name": "python",
   "nbconvert_exporter": "python",
   "pygments_lexer": "ipython3",
   "version": "3.8.8"
  }
 },
 "nbformat": 4,
 "nbformat_minor": 5
}
